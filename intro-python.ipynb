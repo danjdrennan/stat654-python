{
 "cells": [
  {
   "cell_type": "markdown",
   "metadata": {},
   "source": [
    "<center>\n",
    "<h1>Intro Python for Data Analysis</h1>\n",
    "<h2>STAT 654: Statistical Computing with R and Python</h2>\n",
    "<h3>Texas A&M University</h3>\n",
    "<h4>Daniel Drennan</h4>\n",
    "<h4>Dr. Sharmistha Guha</h4>\n",
    "<h4>Spring 2022</h4>\n",
    "</center>"
   ]
  }
 ],
 "metadata": {
  "language_info": {
   "name": "python"
  },
  "orig_nbformat": 4
 },
 "nbformat": 4,
 "nbformat_minor": 2
}
