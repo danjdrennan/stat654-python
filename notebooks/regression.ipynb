{
 "cells": [
  {
   "cell_type": "markdown",
   "metadata": {},
   "source": [
    "<center>\n",
    "<h1>STAT 654: Statistical Computing with R and Python</h1>\n",
    "<h2>Intro Python for Data Analysis</h2>\n",
    "<strong>\n",
    "Daniel Drennan<br>\n",
    "Dr. Sharmistha Guha<br><br>\n",
    "Department of Statistics<br>\n",
    "Texas A&M University<br>\n",
    "College Station, TX, USA<br><br>\n",
    "Spring 2022<br>\n",
    "</strong>\n",
    "</center>\n",
    "\n",
    "**Note**: All Python code can be downloaded from <https://github.com/danjdrennan/stat654-python> or Canvas.\n",
    "\n",
    "**References**:\n",
    "\n",
    "1. James, G., Witten, D., Hastie, T. and Tibshirani, R., 2013.\n",
    "An introduction to statistical learning (Vol. 112, p. 18).\n",
    "New York: springer.\n",
    "\n",
    "2. Warmenhoven, Jordi. <https://github.com/JWarmenhoven/ISLR-python>"
   ]
  },
  {
   "cell_type": "code",
   "execution_count": 8,
   "metadata": {},
   "outputs": [
    {
     "name": "stderr",
     "output_type": "stream",
     "text": [
      "C:\\Users\\danjd\\miniconda3\\envs\\stats\\lib\\site-packages\\statsmodels\\compat\\pandas.py:65: FutureWarning: pandas.Int64Index is deprecated and will be removed from pandas in a future version. Use pandas.Index with the appropriate dtype instead.\n",
      "  from pandas import Int64Index as NumericIndex\n"
     ]
    }
   ],
   "source": [
    "# Core Python utilities for working with paths\n",
    "import os, sys\n",
    "\n",
    "# Scipy stack for data analysis\n",
    "import numpy as np\n",
    "import pandas as pd\n",
    "import scipy as sp\n",
    "import scipy.stats\n",
    "\n",
    "# Plotting / Data Viz\n",
    "import matplotlib.pyplot as plt\n",
    "import seaborn as sns\n",
    "\n",
    "# Libraries for \n",
    "import statsmodels.api as sm\n",
    "import sklearn as sk"
   ]
  },
  {
   "cell_type": "code",
   "execution_count": 2,
   "metadata": {},
   "outputs": [],
   "source": [
    "# This cell will be difficult to get working if you do not pull the entire repository from GitHub,\n",
    "# mainly because it uses a relative import of the plot function from ../src/plotting.\n",
    "# Alternatives are to copy/paste plotting into the same location as this notebook, or to copy/paste\n",
    "# that plot function into this cell.\n",
    "\n",
    "# My goal is to demonstrate how you can merge local code, written outside Jupyter, into Jupyter.\n",
    "# This is a compromise between writing your own Python package (relatively difficult) and \n",
    "# copying/pasting functions between notebooks (inefficient).\n",
    "sys.path.insert(0, os.path.abspath(\"../src\"))\n",
    "from plotting import plot"
   ]
  }
 ],
 "metadata": {
  "interpreter": {
   "hash": "bbf4d2edc3960937e4167eae6bb30e657db03bac26e45aa5902de594be292864"
  },
  "kernelspec": {
   "display_name": "Python 3.10.2 64-bit ('stats': conda)",
   "language": "python",
   "name": "python3"
  },
  "language_info": {
   "codemirror_mode": {
    "name": "ipython",
    "version": 3
   },
   "file_extension": ".py",
   "mimetype": "text/x-python",
   "name": "python",
   "nbconvert_exporter": "python",
   "pygments_lexer": "ipython3",
   "version": "3.10.2"
  },
  "orig_nbformat": 4
 },
 "nbformat": 4,
 "nbformat_minor": 2
}
