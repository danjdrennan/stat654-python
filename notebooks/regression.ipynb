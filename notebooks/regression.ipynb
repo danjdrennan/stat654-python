{
 "cells": [
  {
   "cell_type": "markdown",
   "metadata": {},
   "source": [
    "<center>\n",
    "<h1>STAT 654: Statistical Computing with R and Python</h1>\n",
    "<h2>Intro Python for Data Analysis</h2>\n",
    "<strong>\n",
    "Daniel Drennan<br>\n",
    "Dr. Sharmistha Guha<br><br>\n",
    "Department of Statistics<br>\n",
    "Texas A&M University<br>\n",
    "College Station, TX, USA<br><br>\n",
    "Spring 2022<br>\n",
    "</strong>\n",
    "</center>\n",
    "\n",
    "**Note**: All Python code can be downloaded from <https://github.com/danjdrennan/stat654-python> or Canvas."
   ]
  }
 ],
 "metadata": {
  "interpreter": {
   "hash": "bbf4d2edc3960937e4167eae6bb30e657db03bac26e45aa5902de594be292864"
  },
  "kernelspec": {
   "display_name": "Python 3.10.2 64-bit ('stats': conda)",
   "language": "python",
   "name": "python3"
  },
  "language_info": {
   "codemirror_mode": {
    "name": "ipython",
    "version": 3
   },
   "file_extension": ".py",
   "mimetype": "text/x-python",
   "name": "python",
   "nbconvert_exporter": "python",
   "pygments_lexer": "ipython3",
   "version": "3.10.2"
  },
  "orig_nbformat": 4
 },
 "nbformat": 4,
 "nbformat_minor": 2
}
