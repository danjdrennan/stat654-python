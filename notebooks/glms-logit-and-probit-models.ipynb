{
 "cells": [
  {
   "cell_type": "markdown",
   "metadata": {},
   "source": [
    "<center>\n",
    "<h1>STAT 654: Statistical Computing with R and Python</h1>\n",
    "<h2>General Linear Models: Logit and Probit Regression</h2>\n",
    "<strong>\n",
    "Daniel Drennan<br>\n",
    "Dr. Sharmistha Guha<br><br>\n",
    "Department of Statistics<br>\n",
    "Texas A&M University<br>\n",
    "College Station, TX, USA<br><br>\n",
    "Spring 2022<br>\n",
    "</strong>\n",
    "</center>"
   ]
  },
  {
   "cell_type": "code",
   "execution_count": 1,
   "metadata": {},
   "outputs": [
    {
     "name": "stderr",
     "output_type": "stream",
     "text": [
      "C:\\Users\\danjd\\miniconda3\\envs\\stats\\lib\\site-packages\\statsmodels\\compat\\pandas.py:65: FutureWarning: pandas.Int64Index is deprecated and will be removed from pandas in a future version. Use pandas.Index with the appropriate dtype instead.\n",
      "  from pandas import Int64Index as NumericIndex\n"
     ]
    }
   ],
   "source": [
    "import numpy as np\n",
    "import matplotlib.pyplot as plt\n",
    "import pandas as pd\n",
    "\n",
    "from statsmodels.discrete.discrete_model import Logit, Probit\n",
    "from sklearn.linear_model import LogisticRegression"
   ]
  },
  {
   "cell_type": "markdown",
   "metadata": {},
   "source": [
    "## Generalized Linear Models\n",
    "\n",
    "This notebook covers logistic and probit regression in particular, \n",
    "which are particular instances of a family of generalized linear models (GLMs).\n",
    "We will see how to fit logistic regression models using scikit-learn and statsmodels.\n",
    "A very brief outline of theory is given below. Skip ahead for the code examples.\n",
    "\n",
    "Generalized linear models are regression models from the exponential family of distributions\n",
    "together with a link function to the distribution. A density or mass function $f$ is said to \n",
    "be part of the exponential family of distributions if it can be written as\n",
    "$$\n",
    "    f(x | \\theta) = h(x) c(\\theta) \\exp\\left\\{\\sum_{i=1}^{d} t_i(x) w_i(\\theta)\\right\\},\n",
    "    \\qquad \\theta \\in \\mathbb{R}^{d}.\n",
    "$$\n",
    "(Note $x$ and $\\theta$ may be scalars or vectors.)\n",
    "Common distributions from this family include the normal, binomial, Poisson, and gamma distributions.\n",
    "For the curious, a primer on exponential families (with no connection to GLMs) is available\n",
    "[here](https://people.eecs.berkeley.edu/~jordan/courses/260-spring10/other-readings/chapter8.pdf).\n",
    "Wikipeida also has articles on the [exponential family](https://en.wikipedia.org/wiki/Exponential_family)\n",
    "and [GLMs](https://en.wikipedia.org/wiki/Generalized_linear_model). The Wikipedia articles are fantastic\n",
    "references once you've learned the theory but are not necessarily good for learning theory. Our focus is\n",
    "on logistic and probit regression—two models for a binary response variable.\n",
    "\n",
    "For a general GLM, let $Y_1, \\ldots, Y_n \\overset{iid}{\\sim} F$ follow an exponential family distribution\n",
    "with a vector of covariates $x_i = (x_{i1}, \\ldots, x_{ij})'$. The mean is then given by\n",
    "$$\n",
    "    E Y_i | x_i = \\mu = g^{-1}(x_i' \\beta), \\qquad x_i, \\beta \\in \\mathbb{R}^{p}.\n",
    "$$\n",
    "The function $g$ is determined by the model we choose. Generally, $g$ is monotonic and differentiable\n",
    "almost everywhere. For a logistic regression, the link function is $\\log(\\frac{p_i}{1 - p_i}) = x_i'\\beta$,\n",
    "where $p_i = P[Y_i = 1 | x_i]$. In a probit model, we have $\\Phi(Y_i) = x_i'\\beta$, where $\\Phi$ is the\n",
    "cdf for a standard normal distribution. (NB. Both of these are differentiable functions over the real line).\n",
    "\n",
    "Like ordinary least squares (OLS), in GLMs we estimate $\\beta$ through maximum likelihood estimation. Unlike\n",
    "OLS, the vector $\\beta$ in a GLM does not always have an analytic solution. In such cases, the log-likelihood\n",
    "is maximized numerically using either gradient descent, Newton-Raphson, or another root-finding algorithm to\n",
    "arbitrary precision. Standard error estimates for $\\hat{\\beta}$ are obtained using normal approximations.\n",
    "Goodness of fit is quantified through model deviance instead of the residual sum of squares. The deviance for\n",
    "a GLM is determined by the exponential family and link function used."
   ]
  },
  {
   "cell_type": "markdown",
   "metadata": {},
   "source": [
    "## Code examples\n",
    "\n",
    "The dataset I am using for this module is the *Challenger* data, which associates shuttle launch failures with\n",
    "ground temperatures for shuttle launch trials leading up to the space shuttle Challenger disaster. The dataset\n",
    "is taken from Casella and Berger's *Statistical Inference*."
   ]
  },
  {
   "cell_type": "code",
   "execution_count": 2,
   "metadata": {},
   "outputs": [
    {
     "data": {
      "text/html": [
       "<div>\n",
       "<style scoped>\n",
       "    .dataframe tbody tr th:only-of-type {\n",
       "        vertical-align: middle;\n",
       "    }\n",
       "\n",
       "    .dataframe tbody tr th {\n",
       "        vertical-align: top;\n",
       "    }\n",
       "\n",
       "    .dataframe thead th {\n",
       "        text-align: right;\n",
       "    }\n",
       "</style>\n",
       "<table border=\"1\" class=\"dataframe\">\n",
       "  <thead>\n",
       "    <tr style=\"text-align: right;\">\n",
       "      <th></th>\n",
       "      <th>flight</th>\n",
       "      <th>failure</th>\n",
       "      <th>temp</th>\n",
       "    </tr>\n",
       "  </thead>\n",
       "  <tbody>\n",
       "    <tr>\n",
       "      <th>0</th>\n",
       "      <td>14</td>\n",
       "      <td>1</td>\n",
       "      <td>53</td>\n",
       "    </tr>\n",
       "    <tr>\n",
       "      <th>1</th>\n",
       "      <td>9</td>\n",
       "      <td>1</td>\n",
       "      <td>57</td>\n",
       "    </tr>\n",
       "    <tr>\n",
       "      <th>2</th>\n",
       "      <td>23</td>\n",
       "      <td>1</td>\n",
       "      <td>58</td>\n",
       "    </tr>\n",
       "    <tr>\n",
       "      <th>3</th>\n",
       "      <td>10</td>\n",
       "      <td>1</td>\n",
       "      <td>63</td>\n",
       "    </tr>\n",
       "    <tr>\n",
       "      <th>4</th>\n",
       "      <td>1</td>\n",
       "      <td>0</td>\n",
       "      <td>66</td>\n",
       "    </tr>\n",
       "  </tbody>\n",
       "</table>\n",
       "</div>"
      ],
      "text/plain": [
       "   flight  failure  temp\n",
       "0      14        1    53\n",
       "1       9        1    57\n",
       "2      23        1    58\n",
       "3      10        1    63\n",
       "4       1        0    66"
      ]
     },
     "execution_count": 2,
     "metadata": {},
     "output_type": "execute_result"
    }
   ],
   "source": [
    "df = pd.read_csv(\"../data/challenger.csv\")\n",
    "df.head()"
   ]
  },
  {
   "cell_type": "markdown",
   "metadata": {},
   "source": [
    "Flight numbers for us contain no useful information. They are records from the original data but are not useful\n",
    "as predictor variables in a model. A plot of the other two columns is given below."
   ]
  },
  {
   "cell_type": "code",
   "execution_count": 3,
   "metadata": {},
   "outputs": [
    {
     "data": {
      "image/png": "[encoded data removed]",
      "text/plain": [
       "<Figure size 720x360 with 1 Axes>"
      ]
     },
     "metadata": {
      "needs_background": "light"
     },
     "output_type": "display_data"
    }
   ],
   "source": [
    "fig = plt.figure(figsize = (10, 5))\n",
    "plt.title(\"Challenger: Test flight failures versus temperature\", fontsize=20)\n",
    "plt.xlabel(\"Temperature $(^\\circ F)$\", fontsize=16)\n",
    "plt.ylabel(\"Failure (1 or 0)\", fontsize = 16)\n",
    "plt.grid(alpha = 0.2)\n",
    "plt.plot(df.temp, df.failure, 'ko', mfc=\"none\", label = \"data\")\n",
    "plt.legend(fontsize=12)\n",
    "plt.show()"
   ]
  },
  {
   "cell_type": "markdown",
   "metadata": {},
   "source": [
    "We can see from the plot that there are no successful launches below 65 degrees but there are failures above 65\n",
    "degrees. Clearly a model should put a high risk of failure at lower temperatures and smoothly transition risk at\n",
    "temperatures near 65 degrees. We will fit logistic (logit) and probit regression models to the data and replot\n",
    "this figure.\n",
    "\n",
    "The first models we will fit are logistic regressions. In the scikit-learn class, note the `penalty` argument\n",
    "defaults to an L2 norm. This means the model is being fit using ridge regression by default. To fit a logistic\n",
    "regression without the penalty, we need to specify `penalty = 'none'`. Try changing the fits in this notebook\n",
    "for yourself to see how the model estimates change."
   ]
  },
  {
   "cell_type": "code",
   "execution_count": 4,
   "metadata": {},
   "outputs": [
    {
     "name": "stdout",
     "output_type": "stream",
     "text": [
      "sklearn logit fit: intercept = 15.0429, slope = -0.2322\n"
     ]
    }
   ],
   "source": [
    "# Fitting a scikit learn model first, noting penalty = \"none\" as a required argument\n",
    "x = df.temp.values.reshape(-1, 1)\n",
    "y = df.failure.values\n",
    "\n",
    "sklearn_logit_model = LogisticRegression(penalty=\"none\").fit(x, y)\n",
    "\n",
    "print(\"sklearn logit fit: intercept = {:.4f}, slope = {:.4f}\".format(\n",
    "    float(sklearn_logit_model.intercept_),\n",
    "    float(sklearn_logit_model.coef_[0, 0])\n",
    "))"
   ]
  },
  {
   "cell_type": "code",
   "execution_count": 5,
   "metadata": {},
   "outputs": [
    {
     "name": "stdout",
     "output_type": "stream",
     "text": [
      "Optimization terminated successfully.\n",
      "         Current function value: 0.441635\n",
      "         Iterations 7\n"
     ]
    },
    {
     "data": {
      "text/html": [
       "<table class=\"simpletable\">\n",
       "<caption>Logit Regression Results</caption>\n",
       "<tr>\n",
       "  <th>Dep. Variable:</th>           <td>y</td>        <th>  No. Observations:  </th>  <td>    23</td> \n",
       "</tr>\n",
       "<tr>\n",
       "  <th>Model:</th>                 <td>Logit</td>      <th>  Df Residuals:      </th>  <td>    21</td> \n",
       "</tr>\n",
       "<tr>\n",
       "  <th>Method:</th>                 <td>MLE</td>       <th>  Df Model:          </th>  <td>     1</td> \n",
       "</tr>\n",
       "<tr>\n",
       "  <th>Date:</th>            <td>Mon, 28 Mar 2022</td> <th>  Pseudo R-squ.:     </th>  <td>0.2813</td> \n",
       "</tr>\n",
       "<tr>\n",
       "  <th>Time:</th>                <td>23:21:33</td>     <th>  Log-Likelihood:    </th> <td> -10.158</td>\n",
       "</tr>\n",
       "<tr>\n",
       "  <th>converged:</th>             <td>True</td>       <th>  LL-Null:           </th> <td> -14.134</td>\n",
       "</tr>\n",
       "<tr>\n",
       "  <th>Covariance Type:</th>     <td>nonrobust</td>    <th>  LLR p-value:       </th> <td>0.004804</td>\n",
       "</tr>\n",
       "</table>\n",
       "<table class=\"simpletable\">\n",
       "<tr>\n",
       "    <td></td>       <th>coef</th>     <th>std err</th>      <th>z</th>      <th>P>|z|</th>  <th>[0.025</th>    <th>0.975]</th>  \n",
       "</tr>\n",
       "<tr>\n",
       "  <th>const</th> <td>   15.0429</td> <td>    7.379</td> <td>    2.039</td> <td> 0.041</td> <td>    0.581</td> <td>   29.505</td>\n",
       "</tr>\n",
       "<tr>\n",
       "  <th>x1</th>    <td>   -0.2322</td> <td>    0.108</td> <td>   -2.145</td> <td> 0.032</td> <td>   -0.444</td> <td>   -0.020</td>\n",
       "</tr>\n",
       "</table>"
      ],
      "text/plain": [
       "<class 'statsmodels.iolib.summary.Summary'>\n",
       "\"\"\"\n",
       "                           Logit Regression Results                           \n",
       "==============================================================================\n",
       "Dep. Variable:                      y   No. Observations:                   23\n",
       "Model:                          Logit   Df Residuals:                       21\n",
       "Method:                           MLE   Df Model:                            1\n",
       "Date:                Mon, 28 Mar 2022   Pseudo R-squ.:                  0.2813\n",
       "Time:                        23:21:33   Log-Likelihood:                -10.158\n",
       "converged:                       True   LL-Null:                       -14.134\n",
       "Covariance Type:            nonrobust   LLR p-value:                  0.004804\n",
       "==============================================================================\n",
       "                 coef    std err          z      P>|z|      [0.025      0.975]\n",
       "------------------------------------------------------------------------------\n",
       "const         15.0429      7.379      2.039      0.041       0.581      29.505\n",
       "x1            -0.2322      0.108     -2.145      0.032      -0.444      -0.020\n",
       "==============================================================================\n",
       "\"\"\""
      ]
     },
     "execution_count": 5,
     "metadata": {},
     "output_type": "execute_result"
    }
   ],
   "source": [
    "# Require a matrix to fit a Logit model in statsmodels\n",
    "X = np.c_[np.ones(x.size), x]\n",
    "sm_logit_model = Logit(y, X).fit()\n",
    "\n",
    "sm_logit_model.summary()"
   ]
  },
  {
   "cell_type": "markdown",
   "metadata": {},
   "source": [
    "All I really have to comment on is the consistency of the parameter estimates. Observe both models have the\n",
    "same parameter estimates. As seen in previous notebooks, scikit-learn does not provide uncertainty estimates\n",
    "whatsoever. If we want model uncertainty (as statisticians we generally do), then we either need to code the\n",
    "theory ourselves or use statsmodels to get standard errors. Next we'll fit the probit model."
   ]
  },
  {
   "cell_type": "code",
   "execution_count": 6,
   "metadata": {},
   "outputs": [
    {
     "name": "stdout",
     "output_type": "stream",
     "text": [
      "Optimization terminated successfully.\n",
      "         Current function value: 0.442994\n",
      "         Iterations 6\n"
     ]
    },
    {
     "data": {
      "text/html": [
       "<table class=\"simpletable\">\n",
       "<caption>Probit Regression Results</caption>\n",
       "<tr>\n",
       "  <th>Dep. Variable:</th>           <td>y</td>        <th>  No. Observations:  </th>  <td>    23</td> \n",
       "</tr>\n",
       "<tr>\n",
       "  <th>Model:</th>                <td>Probit</td>      <th>  Df Residuals:      </th>  <td>    21</td> \n",
       "</tr>\n",
       "<tr>\n",
       "  <th>Method:</th>                 <td>MLE</td>       <th>  Df Model:          </th>  <td>     1</td> \n",
       "</tr>\n",
       "<tr>\n",
       "  <th>Date:</th>            <td>Mon, 28 Mar 2022</td> <th>  Pseudo R-squ.:     </th>  <td>0.2791</td> \n",
       "</tr>\n",
       "<tr>\n",
       "  <th>Time:</th>                <td>23:21:33</td>     <th>  Log-Likelihood:    </th> <td> -10.189</td>\n",
       "</tr>\n",
       "<tr>\n",
       "  <th>converged:</th>             <td>True</td>       <th>  LL-Null:           </th> <td> -14.134</td>\n",
       "</tr>\n",
       "<tr>\n",
       "  <th>Covariance Type:</th>     <td>nonrobust</td>    <th>  LLR p-value:       </th> <td>0.004972</td>\n",
       "</tr>\n",
       "</table>\n",
       "<table class=\"simpletable\">\n",
       "<tr>\n",
       "    <td></td>       <th>coef</th>     <th>std err</th>      <th>z</th>      <th>P>|z|</th>  <th>[0.025</th>    <th>0.975]</th>  \n",
       "</tr>\n",
       "<tr>\n",
       "  <th>const</th> <td>    8.7750</td> <td>    4.029</td> <td>    2.178</td> <td> 0.029</td> <td>    0.879</td> <td>   16.671</td>\n",
       "</tr>\n",
       "<tr>\n",
       "  <th>x1</th>    <td>   -0.1351</td> <td>    0.058</td> <td>   -2.314</td> <td> 0.021</td> <td>   -0.250</td> <td>   -0.021</td>\n",
       "</tr>\n",
       "</table>"
      ],
      "text/plain": [
       "<class 'statsmodels.iolib.summary.Summary'>\n",
       "\"\"\"\n",
       "                          Probit Regression Results                           \n",
       "==============================================================================\n",
       "Dep. Variable:                      y   No. Observations:                   23\n",
       "Model:                         Probit   Df Residuals:                       21\n",
       "Method:                           MLE   Df Model:                            1\n",
       "Date:                Mon, 28 Mar 2022   Pseudo R-squ.:                  0.2791\n",
       "Time:                        23:21:33   Log-Likelihood:                -10.189\n",
       "converged:                       True   LL-Null:                       -14.134\n",
       "Covariance Type:            nonrobust   LLR p-value:                  0.004972\n",
       "==============================================================================\n",
       "                 coef    std err          z      P>|z|      [0.025      0.975]\n",
       "------------------------------------------------------------------------------\n",
       "const          8.7750      4.029      2.178      0.029       0.879      16.671\n",
       "x1            -0.1351      0.058     -2.314      0.021      -0.250      -0.021\n",
       "==============================================================================\n",
       "\"\"\""
      ]
     },
     "execution_count": 6,
     "metadata": {},
     "output_type": "execute_result"
    }
   ],
   "source": [
    "sm_probit_model = Probit(y, X).fit()\n",
    "sm_probit_model.summary()"
   ]
  },
  {
   "cell_type": "markdown",
   "metadata": {},
   "source": [
    "Next we plot the two models with the data."
   ]
  },
  {
   "cell_type": "code",
   "execution_count": 7,
   "metadata": {},
   "outputs": [],
   "source": [
    "Xp = np.c_[\n",
    "    np.ones(1000),\n",
    "    np.linspace(50, 85, 1000)\n",
    "]\n",
    "\n",
    "y_logit = sm_logit_model.predict(Xp)\n",
    "y_probit = sm_probit_model.predict(Xp)"
   ]
  },
  {
   "cell_type": "markdown",
   "metadata": {},
   "source": [
    "Note the parameter estimates are different due to the link functions used. The probabilities for the two models will also\n",
    "be slightly different, but are similar (see the next plot)."
   ]
  },
  {
   "cell_type": "code",
   "execution_count": 8,
   "metadata": {},
   "outputs": [
    {
     "data": {
      "image/png": "[encoded data removed]",
      "text/plain": [
       "<Figure size 720x360 with 1 Axes>"
      ]
     },
     "metadata": {
      "needs_background": "light"
     },
     "output_type": "display_data"
    }
   ],
   "source": [
    "fig = plt.figure(figsize = (10, 5))\n",
    "plt.title(\"Challenger: Test flight failures versus temperature\", fontsize=20)\n",
    "plt.xlabel(\"Temperature $(^\\circ F)$\", fontsize=16)\n",
    "plt.ylabel(\"Failure (1 or 0)\", fontsize = 16)\n",
    "plt.grid(alpha = 0.2)\n",
    "plt.plot(df.temp, df.failure, 'ko', mfc=\"none\", label = \"data\")\n",
    "plt.plot(Xp[:, 1], y_logit, \"C0\", label = \"logit model\")\n",
    "plt.plot(Xp[:, 1], y_probit, \"C1\", label = \"probit model\")\n",
    "plt.legend(fontsize=12)\n",
    "plt.show()"
   ]
  },
  {
   "cell_type": "markdown",
   "metadata": {},
   "source": [
    "The plot above shows the similarity of the two models. As we would expect, at 65 degrees, both models approximate the\n",
    "probability of failure as 0.5. Confidence intervals are not shown here but can be obtained using the delta method. I may\n",
    "revise this to include an example in the future."
   ]
  }
 ],
 "metadata": {
  "interpreter": {
   "hash": "bbf4d2edc3960937e4167eae6bb30e657db03bac26e45aa5902de594be292864"
  },
  "kernelspec": {
   "display_name": "Python 3.10.2 ('stats')",
   "language": "python",
   "name": "python3"
  },
  "language_info": {
   "codemirror_mode": {
    "name": "ipython",
    "version": 3
   },
   "file_extension": ".py",
   "mimetype": "text/x-python",
   "name": "python",
   "nbconvert_exporter": "python",
   "pygments_lexer": "ipython3",
   "version": "3.10.2"
  },
  "orig_nbformat": 4
 },
 "nbformat": 4,
 "nbformat_minor": 2
}
